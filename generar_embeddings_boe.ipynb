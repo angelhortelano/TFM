{
  "nbformat": 4,
  "nbformat_minor": 0,
  "metadata": {
    "colab": {
      "provenance": []
    },
    "kernelspec": {
      "name": "python3",
      "display_name": "Python 3"
    },
    "language_info": {
      "name": "python"
    }
  },
  "cells": [
    {
      "cell_type": "code",
      "source": [
        "!pip install langchain_huggingface\n",
        "!pip install langchain_community"
      ],
      "metadata": {
        "id": "MmIRFHCv6F_A"
      },
      "execution_count": null,
      "outputs": []
    },
    {
      "cell_type": "code",
      "execution_count": 4,
      "metadata": {
        "id": "FLgCfYBJyerd"
      },
      "outputs": [],
      "source": [
        "import requests\n",
        "import xml.etree.ElementTree as ET\n",
        "import subprocess\n",
        "from langchain_community.vectorstores import FAISS\n",
        "from langchain_huggingface import HuggingFaceEmbeddings"
      ]
    },
    {
      "cell_type": "code",
      "source": [
        "###########################################################\n",
        "#                 CODIGO PARA TODOS LOS BOE               #\n",
        "###########################################################"
      ],
      "metadata": {
        "id": "Od4Yt4iMzKEh"
      },
      "execution_count": null,
      "outputs": []
    },
    {
      "cell_type": "code",
      "source": [
        "boe_codes_consumo = [\"BOE-A-1978-31229\", \"BOE-A-2006-22950\", \"BOE-A-2007-20555\", \"BOE-A-1998-8789\", \"BOE-A-1999-24356\", \"BOE-A-1996-1072\", \"BOE-A-2004-21421\",\n",
        "                     \"BOE-A-1991-628\", \"BOE-A-1988-26156\", \"BOE-A-2013-12888\", \"BOE-A-2012-15595\", \"BOE-A-2000-323\", \"BOE-A-2017-12659\", \"BOE-A-2020-14046\",\n",
        "                     \"BOE-A-2003-23646\", \"BOE-A-2002-13758\", \"BOE-A-2024-15208\", \"BOE-A-1995-25444\", \"BOE-A-1983-19755\", \"BOE-A-2007-22440\", \"BOE-A-2000-24118\",\n",
        "                     \"BOE-A-2000-16561\", \"BOE-A-2007-21491\", \"BOE-A-2008-17629\", \"BOE-A-2004-511\", \"BOE-A-1990-14814\", \"BOE-A-2005-6795\", \"BOE-A-2020-15872\",\n",
        "                     \"BOE-A-2011-14252\", \"BOE-A-2018-6651\", \"BOE-A-2013-3210\", \"BOE-A-1988-28089\", \"BOE-A-1999-17996\", \"BOE-A-2015-2293\", \"BOE-A-1988-2809\",\n",
        "                     \"BOE-A-2009-18731\", \"BOE-A-1986-18896\", \"BOE-A-2007-22440\", \"BOE-A-2012-14696\", \"BOE-A-2023-24840\", \"BOE-A-2014-6726\", \"BOE-A-2015-1455\",\n",
        "                     \"BOE-A-2011-4117\", \"BOE-A-2012-9111\", \"BOE-A-1989-11181\", \"BOE-A-2011-2618\", \"BOE-A-2013-5073\", \"BOE-A-2009-5391\", \"BOE-A-2017-653\",\n",
        "                     \"BOE-A-2019-3108\", \"BOE-A-2019-3814\", \"BOE-A-2019-6299\", \"BOE-A-2011-10970\", \"BOE-A-1998-16717\", \"BOE-A-1954-15448\", \"BOE-A-2018-16036\",\n",
        "                     \"BOE-A-2017-13644\", \"BOE-A-2019-18425\", \"BOE-A-2019-4906\", \"BOE-A-2019-18677\", \"BOE-A-2019-3113\", \"BOE-A-2007-13411\", \"BOE-A-2012-3394\",\n",
        "                     \"BOE-A-2022-19403\", \"BOE-A-2022-19535\", \"BOE-A-2013-3199\", \"BOE-A-2011-17015\", \"BOE-A-2010-10315\", \"BOE-A-2015-11932\", \"BOE-A-2019-4955\",\n",
        "                     \"BOE-A-2012-9058\", \"BOE-A-2010-15521\", \"BOE-A-2020-7869\", \"BOE-A-2012-14363\", \"BOE-A-2004-5290\", \"BOE-A-2015-11429\", \"BOE-A-2023-14051\",\n",
        "                     \"BOE-A-2007-6115\", \"BOE-A-2022-11589\", \"BOE-A-2018-13593\", \"BOE-A-2017-11505\", \"BOE-A-2004-884\", \"BOJA-b-2012-90004\", \"BOJA-b-2012-90003\",\n",
        "                     \"BOE-A-2016-6309\", \"BOE-A-2007-3601\", \"BOE-A-2015-5328\", \"BOE-A-2005-18179\", \"BOE-A-2016-11670\", \"BOE-A-2014-8820\", \"BOE-A-2014-11805\",\n",
        "                     \"BOE-A-2003-4608\", \"BOE-A-2006-5810\", \"BOE-A-2002-6232\", \"BOE-A-2010-13115\", \"BOE-A-2017-11320\", \"BOE-A-2010-738\", \"BOE-A-2019-6772\",\n",
        "                     \"BOE-A-2010-11731\", \"BOE-A-2020-1534\", \"BOE-A-2015-3280\", \"BOCL-h-2014-90371\", \"BOE-A-1999-2772\", \"BOE-A-1998-20651\", \"BOE-A-1999-17589\",\n",
        "                     \"BOE-A-1997-18549\", \"DOGV-r-2019-90594\", \"BOE-A-2011-6875\", \"BOE-A-2017-2422\", \"BOE-A-2019-3492\", \"BOE-A-2002-11417\", \"BOE-A-2012-5595\",\n",
        "                     \"BOE-A-2004-21335\", \"BOE-A-2007-2207\", \"BOE-A-2011-1649\", \"BOE-A-2018-1751\", \"BOE-A-2013-7476\", \"BOE-A-2013-4464\", \"BOE-A-2005-5660\",\n",
        "                     \"BOE-A-1997-20318\", \"BOE-A-2023-470\", \"BOE-A-2001-15779\", \"BOE-A-1989-23886\", \"BOE-A-2003-10080\", \"BOE-A-2012-1540\", \"BOE-A-2019-3705\",\n",
        "                     \"BOE-A-2023-13537\", \"BOE-A-2003-912\", \"BOE-A-2011-2621\", \"BOE-A-1996-21850\", \"BOE-A-2007-9420\"]"
      ],
      "metadata": {
        "id": "w_mvZQmEvUQx"
      },
      "execution_count": null,
      "outputs": []
    },
    {
      "cell_type": "code",
      "source": [
        "boe_codes_traffic = [\"BOE-A-2003-23514\", \"BOE-A-2024-1773\", \"BOE-A-2024-4143\", \"BOE-A-2024-3943\", \"BOE-A-2024-5842\", \"BOE-A-2021-3984\",\n",
        "                     \"BOE-A-2021-4194\", \"BOE-A-2009-9481\", \"BOE-A-2003-19801\", \"BOE-A-2010-3471\", \"BOE-A-2021-6624\", \"BOE-A-2005-13723\",\n",
        "                     \"BOE-A-2024-17780\", \"BOE-A-1994-8985\", \"BOE-A-2010-18102\", \"BOE-A-2010-19282\", \"BOE-A-2007-10557\", \"BOE-A-2005-7137\",\n",
        "                     \"BOE-A-1979-23768\", \"BOE-A-2004-18911\", \"BOE-A-2008-14915\", \"BOE-A-1999-1826\", \"BOE-A-1995-19000\",\n",
        "                     \"BOE-A-1999-23609\", \"BOE-A-2010-9994\", \"BOE-A-2010-11154\", \"BOE-A-2017-12841\", \"BOE-A-2017-6512\", \"BOE-A-2008-14194\",\n",
        "                     \"BOE-A-2004-1739\", \"BOE-A-2018-14948\", \"BOE-A-2010-4180\", \"BOE-A-2021-3982\", \"BOE-A-1995-25444\",\"BOE-A-2015-11722\",\"BOE-A-2021-5868\"]\n",
        "concatenated_texts = []\n",
        "\n",
        "for code in boe_codes_traffic:\n",
        "\n",
        "    curl_command = [\n",
        "        \"curl\", \"-L\", \"-X\", \"GET\", \"-H\", \"Accept: application/xml\",\n",
        "        f\"https://www.boe.es/datosabiertos/api/legislacion-consolidada/id/{code}/texto\"\n",
        "    ]\n",
        "\n",
        "    # Ejecutar el comando y capturar la salida\n",
        "    result = subprocess.run(curl_command, stdout=subprocess.PIPE)\n",
        "\n",
        "    # Obtener el contenido del XML como texto\n",
        "    xml_content = result.stdout.decode('utf-8')\n",
        "\n",
        "    # Parsear el contenido del XML\n",
        "    root = ET.fromstring(xml_content)\n",
        "    # Los bloques que contienen los leyes son del tipo \"precepto\"\n",
        "    precepto_blocks = []\n",
        "\n",
        "    for block in root.findall(\".//bloque[@tipo='precepto']\"):\n",
        "        precepto_blocks.append(block)\n",
        "\n",
        "    for precepto in precepto_blocks:\n",
        "        article_content = precepto.find(\".//p[@class='articulo']\").text if precepto.find(\".//p[@class='articulo']\") is not None else \"\"\n",
        "        paragraph_contents = [p.text if p.text is not None else \"\" for p in precepto.findall(\".//p[@class='parrafo']\")]\n",
        "        # Concatenar el codigo del boe junto con el articulo y su contenido\n",
        "        if article_content and paragraph_contents:\n",
        "          full_text = code + \" \"+article_content + \" \" + \" \".join(paragraph_contents).strip()\n",
        "          if len(full_text) > 100:\n",
        "            concatenated_texts.append(full_text)\n"
      ],
      "metadata": {
        "id": "cgR3sw-FxC1C"
      },
      "execution_count": 5,
      "outputs": []
    },
    {
      "cell_type": "code",
      "source": [
        "embeddings = HuggingFaceEmbeddings(model_name=\"paraphrase-multilingual-MiniLM-L12-v2\")"
      ],
      "metadata": {
        "id": "7zHsgDmRN33z"
      },
      "execution_count": null,
      "outputs": []
    },
    {
      "cell_type": "code",
      "source": [
        "embeddings2 = HuggingFaceEmbeddings(model_name=\"paraphrase-xlm-r-multilingual-v1\")"
      ],
      "metadata": {
        "id": "m16teUngPwii"
      },
      "execution_count": null,
      "outputs": []
    },
    {
      "cell_type": "code",
      "source": [
        "vector_store = FAISS.from_texts(concatenated_texts, embedding=embeddings)\n",
        "vector_store.save_local(\"/content/paraphrase-multilingual-MiniLM-L12-v2\")"
      ],
      "metadata": {
        "id": "Uk_mTYWAGvxC"
      },
      "execution_count": null,
      "outputs": []
    }
  ]
}